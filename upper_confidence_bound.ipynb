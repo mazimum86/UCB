{
 "cells": [
  {
   "cell_type": "markdown",
   "id": "7e3f5acd-94a2-4a0f-8b64-8282faf120c1",
   "metadata": {},
   "source": [
    "## Upper Confidence Bound (UCB)"
   ]
  },
  {
   "cell_type": "markdown",
   "id": "524f3f57-9eaf-49da-af7a-54eae3c7d4ac",
   "metadata": {},
   "source": [
    "**Importing Libraries**"
   ]
  },
  {
   "cell_type": "code",
   "execution_count": 7,
   "id": "cb22e047-daac-4cec-9d07-fb877c3b4fa9",
   "metadata": {},
   "outputs": [],
   "source": [
    "import pandas as pd\n",
    "import numpy as np\n",
    "import matplotlib.pyplot as plt\n",
    "from random import random"
   ]
  },
  {
   "cell_type": "code",
   "execution_count": null,
   "id": "90fe314e-e9c8-40ee-be5f-cdb58c05e48d",
   "metadata": {},
   "outputs": [],
   "source": []
  },
  {
   "cell_type": "markdown",
   "id": "19564ae3-8cf7-42ff-a908-f86be1487d00",
   "metadata": {},
   "source": [
    "**Importing Dataset**"
   ]
  },
  {
   "cell_type": "code",
   "execution_count": 2,
   "id": "8a66f235-e9cf-4ddc-8b44-de2beef50463",
   "metadata": {},
   "outputs": [
    {
     "data": {
      "text/html": [
       "<div>\n",
       "<style scoped>\n",
       "    .dataframe tbody tr th:only-of-type {\n",
       "        vertical-align: middle;\n",
       "    }\n",
       "\n",
       "    .dataframe tbody tr th {\n",
       "        vertical-align: top;\n",
       "    }\n",
       "\n",
       "    .dataframe thead th {\n",
       "        text-align: right;\n",
       "    }\n",
       "</style>\n",
       "<table border=\"1\" class=\"dataframe\">\n",
       "  <thead>\n",
       "    <tr style=\"text-align: right;\">\n",
       "      <th></th>\n",
       "      <th>Ad 1</th>\n",
       "      <th>Ad 2</th>\n",
       "      <th>Ad 3</th>\n",
       "      <th>Ad 4</th>\n",
       "      <th>Ad 5</th>\n",
       "      <th>Ad 6</th>\n",
       "      <th>Ad 7</th>\n",
       "      <th>Ad 8</th>\n",
       "      <th>Ad 9</th>\n",
       "      <th>Ad 10</th>\n",
       "    </tr>\n",
       "  </thead>\n",
       "  <tbody>\n",
       "    <tr>\n",
       "      <th>0</th>\n",
       "      <td>1</td>\n",
       "      <td>0</td>\n",
       "      <td>0</td>\n",
       "      <td>0</td>\n",
       "      <td>1</td>\n",
       "      <td>0</td>\n",
       "      <td>0</td>\n",
       "      <td>0</td>\n",
       "      <td>1</td>\n",
       "      <td>0</td>\n",
       "    </tr>\n",
       "    <tr>\n",
       "      <th>1</th>\n",
       "      <td>0</td>\n",
       "      <td>0</td>\n",
       "      <td>0</td>\n",
       "      <td>0</td>\n",
       "      <td>0</td>\n",
       "      <td>0</td>\n",
       "      <td>0</td>\n",
       "      <td>0</td>\n",
       "      <td>1</td>\n",
       "      <td>0</td>\n",
       "    </tr>\n",
       "    <tr>\n",
       "      <th>2</th>\n",
       "      <td>0</td>\n",
       "      <td>0</td>\n",
       "      <td>0</td>\n",
       "      <td>0</td>\n",
       "      <td>0</td>\n",
       "      <td>0</td>\n",
       "      <td>0</td>\n",
       "      <td>0</td>\n",
       "      <td>0</td>\n",
       "      <td>0</td>\n",
       "    </tr>\n",
       "    <tr>\n",
       "      <th>3</th>\n",
       "      <td>0</td>\n",
       "      <td>1</td>\n",
       "      <td>0</td>\n",
       "      <td>0</td>\n",
       "      <td>0</td>\n",
       "      <td>0</td>\n",
       "      <td>0</td>\n",
       "      <td>1</td>\n",
       "      <td>0</td>\n",
       "      <td>0</td>\n",
       "    </tr>\n",
       "    <tr>\n",
       "      <th>4</th>\n",
       "      <td>0</td>\n",
       "      <td>0</td>\n",
       "      <td>0</td>\n",
       "      <td>0</td>\n",
       "      <td>0</td>\n",
       "      <td>0</td>\n",
       "      <td>0</td>\n",
       "      <td>0</td>\n",
       "      <td>0</td>\n",
       "      <td>0</td>\n",
       "    </tr>\n",
       "  </tbody>\n",
       "</table>\n",
       "</div>"
      ],
      "text/plain": [
       "   Ad 1  Ad 2  Ad 3  Ad 4  Ad 5  Ad 6  Ad 7  Ad 8  Ad 9  Ad 10\n",
       "0     1     0     0     0     1     0     0     0     1      0\n",
       "1     0     0     0     0     0     0     0     0     1      0\n",
       "2     0     0     0     0     0     0     0     0     0      0\n",
       "3     0     1     0     0     0     0     0     1     0      0\n",
       "4     0     0     0     0     0     0     0     0     0      0"
      ]
     },
     "execution_count": 2,
     "metadata": {},
     "output_type": "execute_result"
    }
   ],
   "source": [
    "data = pd.read_csv('Ads_CTR_Optimisation.csv')\n",
    "data.head()"
   ]
  },
  {
   "cell_type": "code",
   "execution_count": 224,
   "id": "50011669-4d23-436e-8d52-5f4ed2b9db73",
   "metadata": {},
   "outputs": [],
   "source": [
    "num_users = data.shape[0]\n",
    "num_ads = data.shape[1]"
   ]
  },
  {
   "cell_type": "markdown",
   "id": "e6811912-ac6f-420d-89ba-7cef713c3c8e",
   "metadata": {},
   "source": [
    "**Implementing UCB**"
   ]
  },
  {
   "cell_type": "code",
   "execution_count": 249,
   "id": "71e61e75-a4b0-4565-b6b7-f4a7e3cc05d2",
   "metadata": {},
   "outputs": [],
   "source": [
    "reward =[0]* num_ads    # A list containing accumulated rewards per Ad\n",
    "Nt= [0]* num_ads      # A list containing the number of times each Ad got clicked\n",
    "ads_selected=[]\n",
    "total_reward = 0\n",
    "N=1000\n",
    "for agent in range(1000):\n",
    "\n",
    "    max_upper_bound=0\n",
    "    for ad in range(num_ads):\n",
    "        \n",
    "        if Nt[ad]> 0:\n",
    "            reward_rate = reward[ad]/Nt[ad]\n",
    "            upper_bound= reward_rate + np.sqrt(3/2*np.log(agent+1)/(Nt[ad]))\n",
    "\n",
    "        else:\n",
    "            upper_bound=1e400\n",
    "            \n",
    "        if upper_bound > max_upper_bound:\n",
    "            max_upper_bound=upper_bound\n",
    "            ad_selected=ad\n",
    "    \n",
    "    Nt[ad_selected]+=1\n",
    "   \n",
    "    ad_reward= data.iloc[agent, ad_selected]\n",
    "    \n",
    "    \n",
    "    reward[ad_selected]+= ad_reward\n",
    "    \n",
    "    ads_selected.append(ad_selected)\n",
    "total_reward=sum(reward)"
   ]
  },
  {
   "cell_type": "markdown",
   "id": "fd0b997d-e7ce-4f60-9382-d3a1ff53ec94",
   "metadata": {},
   "source": [
    "**Visualizing the results**"
   ]
  },
  {
   "cell_type": "code",
   "execution_count": 250,
   "id": "46933567-4e25-4572-b27a-1a7ef66d56d4",
   "metadata": {},
   "outputs": [
    {
     "data": {
      "image/png": "[encoded data removed]",
      "text/plain": [
       "<Figure size 640x480 with 1 Axes>"
      ]
     },
     "metadata": {},
     "output_type": "display_data"
    }
   ],
   "source": [
    "plt.hist(ads_selected)\n",
    "plt.title('Histogram of Ads Selections')\n",
    "plt.xlabel('Ad')\n",
    "plt.ylabel('Count of Ads Selected')\n",
    "plt.show()"
   ]
  },
  {
   "cell_type": "code",
   "execution_count": 221,
   "id": "226dc7d1-cc23-4718-99b9-dbb73bbea352",
   "metadata": {},
   "outputs": [
    {
     "data": {
      "text/plain": [
       "2129"
      ]
     },
     "execution_count": 221,
     "metadata": {},
     "output_type": "execute_result"
    }
   ],
   "source": [
    "total_reward"
   ]
  },
  {
   "cell_type": "code",
   "execution_count": null,
   "id": "d54e62d4-60ff-4755-86f5-9b114c1394d4",
   "metadata": {},
   "outputs": [],
   "source": []
  }
 ],
 "metadata": {
  "kernelspec": {
   "display_name": "Python 3 (ipykernel)",
   "language": "python",
   "name": "python3"
  },
  "language_info": {
   "codemirror_mode": {
    "name": "ipython",
    "version": 3
   },
   "file_extension": ".py",
   "mimetype": "text/x-python",
   "name": "python",
   "nbconvert_exporter": "python",
   "pygments_lexer": "ipython3",
   "version": "3.9.19"
  }
 },
 "nbformat": 4,
 "nbformat_minor": 5
}
